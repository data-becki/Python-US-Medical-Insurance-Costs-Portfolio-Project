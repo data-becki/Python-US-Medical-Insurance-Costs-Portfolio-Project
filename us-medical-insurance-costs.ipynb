{
 "cells": [
  {
   "cell_type": "markdown",
   "metadata": {},
   "source": [
    "# U.S. Medical Insurance Costs"
   ]
  },
  {
   "cell_type": "markdown",
   "metadata": {},
   "source": [
    "This is a codecademy Portfolio Project that is in the curriculum after the Python Fundamentals module.  We are looking a medical insurance information and costs for patients in the United States and looking for any insights from that data.\n",
    "\n",
    "That module includes functions, lists, loops, strings, dictionaries, classes, modules, and files.\n",
    "\n",
    "After completing the Pandas module, I revisited this project to play with the data some more."
   ]
  },
  {
   "cell_type": "markdown",
   "metadata": {},
   "source": [
    "## Import the data set\n",
    "\n",
    "Use the csv library."
   ]
  },
  {
   "cell_type": "code",
   "execution_count": 1,
   "metadata": {},
   "outputs": [],
   "source": [
    "import csv"
   ]
  },
  {
   "cell_type": "markdown",
   "metadata": {},
   "source": [
    "## Look over your dataset\n",
    "Information given about dataset:\n",
    "\n",
    "-   There is no missing data.\n",
    "-    There are seven columns.\n",
    "-    Some columns are numerical while some are categorical.\n",
    "\n",
    "This dataset contains medical insurance information about patients in the United States that includes:\n",
    "- their age, \n",
    "- sex (male or female), \n",
    "- body mass index, \n",
    "- number of children they have, \n",
    "- whether they are a smoker(yes or no),\n",
    "- what region they live in (southwest, southeast, northwest, northeast),\n",
    "- and how much they are charged for insurance per year."
   ]
  },
  {
   "cell_type": "code",
   "execution_count": 2,
   "metadata": {},
   "outputs": [
    {
     "name": "stdout",
     "output_type": "stream",
     "text": [
      "age,sex,bmi,children,smoker,region,charges\n",
      "19,female,27.9,0,yes,southwest,16884.924\n",
      "18,male,33.77,1,no,southeast,1725.5523\n",
      "28,male,33,3,no,southeast,4449.462\n",
      "33,male,22.705,0,no,northwest,21984.47061\n",
      "32,male,28.88,0,no,northwest,3866.8552\n",
      "31,female,25.74,0,no,southeast,3756.6216\n",
      "46,female,33.44,1,no,southeast,8240.5896\n",
      "37,female,27.74,3,no,northwest,7281.5056\n",
      "... deleted some rows to make it more readable...\n",
      "\n"
     ]
    }
   ],
   "source": [
    "with open('insurance.csv') as insurance_file:\n",
    "    print(insurance_file.read())"
   ]
  },
  {
   "cell_type": "markdown",
   "metadata": {},
   "source": [
    "## Scoping the Project\n",
    "\n",
    "What do we want to analyze?  Average age? Where the majority of individuals are from? Difference in costs between smokers and non-smokers? How many smokers are in each region?\n",
    "\n",
    "We might first want to see if the data is skewed in any one particular direction\n",
    "What's the breakdown of males vs. females, smokers vs. non-smokers, how are the different areas covered? \n",
    "\n",
    "We could also look at this from a social justice standpoint. Is there a difference in what males and females are charged for insurance?  And take a look at charges per region?"
   ]
  },
  {
   "cell_type": "markdown",
   "metadata": {},
   "source": [
    "## Save your dataset via Python variables\n",
    "\n",
    "Save the features of your dataset (the columns) from insurance.csv by storing them in variables that can be used for analysis. \n",
    "\n",
    "As you consider what types of variables to use and how many you plan to create, think ahead about the parameters you wish to investigate and how your organization will impact this analysis."
   ]
  },
  {
   "cell_type": "code",
   "execution_count": 3,
   "metadata": {
    "scrolled": true
   },
   "outputs": [
    {
     "data": {
      "text/plain": [
       "1338"
      ]
     },
     "execution_count": 3,
     "metadata": {},
     "output_type": "execute_result"
    }
   ],
   "source": [
    "# lists of all the columns, so we can do some counting.\n",
    "age = []\n",
    "sex = []\n",
    "bmi = []\n",
    "num_children = []\n",
    "smoker_status = []\n",
    "region = []\n",
    "charges = []\n",
    "\n",
    "def make_lists(lst, csv_file, col_name):\n",
    "    with open(csv_file) as list_file:\n",
    "        records_reader = csv.DictReader(list_file)\n",
    "        for row in records_reader:\n",
    "            lst.append(row[col_name])\n",
    "        return lst\n",
    "\n",
    "make_lists(age, 'insurance.csv', 'age')\n",
    "make_lists(sex, 'insurance.csv', 'sex')\n",
    "make_lists(bmi, 'insurance.csv', 'bmi')\n",
    "make_lists(num_children, 'insurance.csv', 'children')\n",
    "make_lists(smoker_status, 'insurance.csv', 'smoker')\n",
    "make_lists(region, 'insurance.csv', 'region')\n",
    "make_lists(charges, 'insurance.csv', 'charges')\n",
    "\n",
    "# And a dictionary of all the records\n",
    "list_of_records = []\n",
    "with open('insurance.csv', newline = '') as insurance_file:\n",
    "    records_reader = csv.DictReader(insurance_file)\n",
    "    for row in records_reader:\n",
    "        list_of_records.append(row)\n",
    "        \n",
    "num_records = len(list_of_records)\n",
    "num_records"
   ]
  },
  {
   "cell_type": "code",
   "execution_count": 8,
   "metadata": {},
   "outputs": [
    {
     "data": {
      "text/plain": [
       "[{'age': '19',\n",
       "  'sex': 'female',\n",
       "  'bmi': '27.9',\n",
       "  'children': '0',\n",
       "  'smoker': 'yes',\n",
       "  'region': 'southwest',\n",
       "  'charges': '16884.924'},\n",
       " {'age': '18',\n",
       "  'sex': 'male',\n",
       "  'bmi': '33.77',\n",
       "  'children': '1',\n",
       "  'smoker': 'no',\n",
       "  'region': 'southeast',\n",
       "  'charges': '1725.5523'},\n",
       " {'age': '28',\n",
       "  'sex': 'male',\n",
       "  'bmi': '33',\n",
       "  'children': '3',\n",
       "  'smoker': 'no',\n",
       "  'region': 'southeast',\n",
       "  'charges': '4449.462'},\n",
       " {'age': '33',\n",
       "  'sex': 'male',\n",
       "  'bmi': '22.705',\n",
       "  'children': '0',\n",
       "  'smoker': 'no',\n",
       "  'region': 'northwest',\n",
       "  'charges': '21984.47061'},\n",
       " {'age': '32',\n",
       "  'sex': 'male',\n",
       "  'bmi': '28.88',\n",
       "  'children': '0',\n",
       "  'smoker': 'no',\n",
       "  'region': 'northwest',\n",
       "  'charges': '3866.8552'}]"
      ]
     },
     "execution_count": 8,
     "metadata": {},
     "output_type": "execute_result"
    }
   ],
   "source": [
    "list_of_records[0:5]"
   ]
  },
  {
   "cell_type": "markdown",
   "metadata": {},
   "source": [
    "## Build out analysis functions or class methods"
   ]
  },
  {
   "cell_type": "code",
   "execution_count": 11,
   "metadata": {},
   "outputs": [
    {
     "name": "stdout",
     "output_type": "stream",
     "text": [
      "Number of patients who are: Males: 676 Females: 662\n",
      "\n",
      "Number of patients who are a: Smoker: 274 Non-smoker: 1064\n",
      "\n",
      "Number of patients in each region of the US:\n",
      "Northeast: 324 Southeast: 364 Northwest: 325 Southwest: 325\n"
     ]
    }
   ],
   "source": [
    "# What's the breakdown of males vs. females, smokers vs. non-smokers, \n",
    "# how are the different areas covered?\n",
    "\n",
    "print('Number of patients who are: Males: ' + str(sex.count('male')), 'Females: ' + str(sex.count('female')) + \"\\n\")\n",
    "\n",
    "print('Number of patients who are a: Smoker: ' + str(smoker_status.count('yes')), 'Non-smoker: ' + str(smoker_status.count('no')) + \"\\n\")\n",
    "\n",
    "print('Number of patients in each region of the US:\\n'\n",
    "      'Northeast: ' + str(region.count('northeast')),\n",
    "      'Southeast: ' + str(region.count('southeast')), \n",
    "      'Northwest: ' + str(region.count('northwest')),\n",
    "      'Southwest: ' + str(region.count('southwest'))\n",
    "     )"
   ]
  },
  {
   "cell_type": "markdown",
   "metadata": {},
   "source": [
    "It is a pretty even spread, excepting the smokers (which I think we'd hope to see), and slightly more coverage in the southeastern states.\n",
    "\n",
    "What is the average age?  What is the average insurance cost?  What is average bmi?\n",
    "\n",
    "It would be interesting to look at range and standard deviation, but that is outside the scope of this project (and beyond what was taught in the Python Fundamentals). \n"
   ]
  },
  {
   "cell_type": "code",
   "execution_count": 12,
   "metadata": {},
   "outputs": [
    {
     "name": "stdout",
     "output_type": "stream",
     "text": [
      "Aveage age: 39.21\n",
      "Average charges: 13270.42\n",
      "Average bmi: 30.66\n"
     ]
    }
   ],
   "source": [
    "def avg_lst(lst):\n",
    "    total_lst = 0\n",
    "    for l in lst:\n",
    "        total_lst += float(l)\n",
    "    return (round((total_lst / len(lst)), 2))\n",
    "\n",
    "avg_age = avg_lst(age)\n",
    "\n",
    "avg_charge = avg_lst(charges)\n",
    "\n",
    "avg_bmi = avg_lst(bmi)\n",
    "\n",
    "print('Aveage age: ' + str(avg_age))\n",
    "print('Average charges: ' + str(avg_charge))\n",
    "print('Average bmi: ' +  str(avg_bmi))"
   ]
  },
  {
   "cell_type": "markdown",
   "metadata": {},
   "source": [
    "## With Pandas \n",
    "\n",
    "Using dataframes instead of dictionaries and lists, we can import `insurance.csv`."
   ]
  },
  {
   "cell_type": "code",
   "execution_count": 13,
   "metadata": {},
   "outputs": [],
   "source": [
    "import pandas as pd"
   ]
  },
  {
   "cell_type": "markdown",
   "metadata": {},
   "source": [
    "We can look at the difference in all the categories of age, bmi, children, smoker, region, and charges."
   ]
  },
  {
   "cell_type": "code",
   "execution_count": 14,
   "metadata": {},
   "outputs": [
    {
     "data": {
      "text/html": [
       "<div>\n",
       "<style scoped>\n",
       "    .dataframe tbody tr th:only-of-type {\n",
       "        vertical-align: middle;\n",
       "    }\n",
       "\n",
       "    .dataframe tbody tr th {\n",
       "        vertical-align: top;\n",
       "    }\n",
       "\n",
       "    .dataframe thead th {\n",
       "        text-align: right;\n",
       "    }\n",
       "</style>\n",
       "<table border=\"1\" class=\"dataframe\">\n",
       "  <thead>\n",
       "    <tr style=\"text-align: right;\">\n",
       "      <th></th>\n",
       "      <th>age</th>\n",
       "      <th>sex</th>\n",
       "      <th>bmi</th>\n",
       "      <th>children</th>\n",
       "      <th>smoker</th>\n",
       "      <th>region</th>\n",
       "      <th>charges</th>\n",
       "    </tr>\n",
       "  </thead>\n",
       "  <tbody>\n",
       "    <tr>\n",
       "      <th>0</th>\n",
       "      <td>19</td>\n",
       "      <td>female</td>\n",
       "      <td>27.900</td>\n",
       "      <td>0</td>\n",
       "      <td>yes</td>\n",
       "      <td>southwest</td>\n",
       "      <td>16884.92400</td>\n",
       "    </tr>\n",
       "    <tr>\n",
       "      <th>1</th>\n",
       "      <td>18</td>\n",
       "      <td>male</td>\n",
       "      <td>33.770</td>\n",
       "      <td>1</td>\n",
       "      <td>no</td>\n",
       "      <td>southeast</td>\n",
       "      <td>1725.55230</td>\n",
       "    </tr>\n",
       "    <tr>\n",
       "      <th>2</th>\n",
       "      <td>28</td>\n",
       "      <td>male</td>\n",
       "      <td>33.000</td>\n",
       "      <td>3</td>\n",
       "      <td>no</td>\n",
       "      <td>southeast</td>\n",
       "      <td>4449.46200</td>\n",
       "    </tr>\n",
       "    <tr>\n",
       "      <th>3</th>\n",
       "      <td>33</td>\n",
       "      <td>male</td>\n",
       "      <td>22.705</td>\n",
       "      <td>0</td>\n",
       "      <td>no</td>\n",
       "      <td>northwest</td>\n",
       "      <td>21984.47061</td>\n",
       "    </tr>\n",
       "    <tr>\n",
       "      <th>4</th>\n",
       "      <td>32</td>\n",
       "      <td>male</td>\n",
       "      <td>28.880</td>\n",
       "      <td>0</td>\n",
       "      <td>no</td>\n",
       "      <td>northwest</td>\n",
       "      <td>3866.85520</td>\n",
       "    </tr>\n",
       "  </tbody>\n",
       "</table>\n",
       "</div>"
      ],
      "text/plain": [
       "   age     sex     bmi  children smoker     region      charges\n",
       "0   19  female  27.900         0    yes  southwest  16884.92400\n",
       "1   18    male  33.770         1     no  southeast   1725.55230\n",
       "2   28    male  33.000         3     no  southeast   4449.46200\n",
       "3   33    male  22.705         0     no  northwest  21984.47061\n",
       "4   32    male  28.880         0     no  northwest   3866.85520"
      ]
     },
     "execution_count": 14,
     "metadata": {},
     "output_type": "execute_result"
    }
   ],
   "source": [
    "patient_records = pd.read_csv('insurance.csv')\n",
    "patient_records.head()"
   ]
  },
  {
   "cell_type": "code",
   "execution_count": 15,
   "metadata": {},
   "outputs": [
    {
     "data": {
      "text/plain": [
       "1338"
      ]
     },
     "execution_count": 15,
     "metadata": {},
     "output_type": "execute_result"
    }
   ],
   "source": [
    "patient_count = len(patient_records)\n",
    "patient_count"
   ]
  },
  {
   "cell_type": "code",
   "execution_count": 17,
   "metadata": {},
   "outputs": [
    {
     "name": "stdout",
     "output_type": "stream",
     "text": [
      "662 676\n"
     ]
    }
   ],
   "source": [
    "females = patient_records[patient_records.sex == 'female']\n",
    "males = patient_records[patient_records.sex == 'male']\n",
    "print(len(females), len(males))"
   ]
  },
  {
   "cell_type": "code",
   "execution_count": 19,
   "metadata": {},
   "outputs": [
    {
     "name": "stdout",
     "output_type": "stream",
     "text": [
      "40 39\n"
     ]
    }
   ],
   "source": [
    "female_avg_age = females.age.mean()\n",
    "male_avg_age = males.age.mean()\n",
    "print(round(female_avg_age), round(male_avg_age))"
   ]
  },
  {
   "cell_type": "markdown",
   "metadata": {},
   "source": [
    "The average ages of males and females are very close. If they were not, that might indicate the data was not equitably collected."
   ]
  },
  {
   "cell_type": "code",
   "execution_count": 24,
   "metadata": {},
   "outputs": [
    {
     "name": "stdout",
     "output_type": "stream",
     "text": [
      "Female average cost: 12569.58\n",
      "Male average cost: 13956.75\n",
      "\n",
      "Males are charged 1387.17 more.\n"
     ]
    }
   ],
   "source": [
    "female_avg_cost = round(females.charges.mean(), 2)\n",
    "male_avg_cost = round(males.charges.mean(), 2)\n",
    "print('Female average cost: ' + str(female_avg_cost) + \"\\n\"\n",
    "      'Male average cost: ' + str(male_avg_cost) + \"\\n\")\n",
    "\n",
    "def most_cost(female, male):\n",
    "    if female > male:\n",
    "        diff_f_m_cost = female - male\n",
    "        print('Females are charged ' + str(diff_f_m_cost) + ' more.')\n",
    "    else:\n",
    "        diff_f_m_cost = male - female\n",
    "        print('Males are charged ' + str(diff_f_m_cost) + ' more.')\n",
    "        \n",
    "most_cost(female_avg_cost, male_avg_cost)"
   ]
  },
  {
   "cell_type": "markdown",
   "metadata": {},
   "source": [
    "What is the correlation between bmi and charges if you are below or above the average?"
   ]
  },
  {
   "cell_type": "code",
   "execution_count": 26,
   "metadata": {},
   "outputs": [
    {
     "data": {
      "text/plain": [
       "30.7"
      ]
     },
     "execution_count": 26,
     "metadata": {},
     "output_type": "execute_result"
    }
   ],
   "source": [
    "avg_bmi = round(patient_records.bmi.mean(), 1)\n",
    "avg_bmi"
   ]
  },
  {
   "cell_type": "code",
   "execution_count": 36,
   "metadata": {},
   "outputs": [
    {
     "name": "stdout",
     "output_type": "stream",
     "text": [
      "Patients with BMI above the average of 30.7 pay 15772.48 in medical insurance costs. \n",
      "\n",
      "Patients with BMI below the average pay 10969.39.\n",
      "\n",
      "Patients with above average BMI are charged 4803.09 more.\n"
     ]
    }
   ],
   "source": [
    "high_bmi = patient_records[patient_records.bmi >= 30.7]\n",
    "low_bmi = patient_records[patient_records.bmi < 30.7]\n",
    "# high_bmi\n",
    "\n",
    "high_bmi_avg_cost = round(high_bmi.charges.mean(), 2)\n",
    "low_bmi_avg_cost = round(low_bmi.charges.mean(), 2)\n",
    "\n",
    "print('Patients with BMI above the average of 30.7 pay ' + str(high_bmi_avg_cost) + ' in medical insurance costs. \\n')\n",
    "print('Patients with BMI below the average pay ' + str(low_bmi_avg_cost) + '.\\n')\n",
    "\n",
    "def most_cost(high, low):\n",
    "    if high > low:\n",
    "        diff_bmi_cost = high - low\n",
    "        print('Patients with above average BMI are charged ' + str(diff_bmi_cost) + ' more.')\n",
    "    else:\n",
    "        diff_bmi_cost = low - high\n",
    "        print('Patients with below average BMI are charged ' + str(diff_bmi_cost) + ' more.')\n",
    "        \n",
    "most_cost(high_bmi_avg_cost, low_bmi_avg_cost)"
   ]
  }
 ],
 "metadata": {
  "kernelspec": {
   "display_name": "Python 3 (ipykernel)",
   "language": "python",
   "name": "python3"
  },
  "language_info": {
   "codemirror_mode": {
    "name": "ipython",
    "version": 3
   },
   "file_extension": ".py",
   "mimetype": "text/x-python",
   "name": "python",
   "nbconvert_exporter": "python",
   "pygments_lexer": "ipython3",
   "version": "3.9.7"
  }
 },
 "nbformat": 4,
 "nbformat_minor": 4
}
